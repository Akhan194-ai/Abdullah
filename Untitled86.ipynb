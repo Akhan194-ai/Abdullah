{
 "cells": [
  {
   "cell_type": "code",
   "execution_count": 1,
   "id": "75aff0d1-300b-4831-9098-aa37716d6c58",
   "metadata": {},
   "outputs": [
    {
     "name": "stdout",
     "output_type": "stream",
     "text": [
      "  Objects  X  Y  Z  Cluster\n",
      "0    OB-1  1  4  1        0\n",
      "1    OB-2  1  2  2        1\n",
      "2    OB-3  1  4  1        0\n",
      "3    OB-4  2  1  2        1\n",
      "4    OB-5  1  1  1        1\n",
      "5    OB-6  2  4  2        0\n",
      "6    OB-7  1  1  2        1\n",
      "7    OB-8  2  1  1        1\n"
     ]
    },
    {
     "name": "stderr",
     "output_type": "stream",
     "text": [
      "C:\\Users\\sed\\.conda\\envs\\tf\\lib\\site-packages\\sklearn\\cluster\\_kmeans.py:1416: FutureWarning: The default value of `n_init` will change from 10 to 'auto' in 1.4. Set the value of `n_init` explicitly to suppress the warning\n",
      "  super()._check_params_vs_input(X, default_n_init=10)\n",
      "C:\\Users\\sed\\.conda\\envs\\tf\\lib\\site-packages\\sklearn\\cluster\\_kmeans.py:1440: UserWarning: KMeans is known to have a memory leak on Windows with MKL, when there are less chunks than available threads. You can avoid it by setting the environment variable OMP_NUM_THREADS=1.\n",
      "  warnings.warn(\n"
     ]
    }
   ],
   "source": [
    "import pandas as pd\n",
    "from sklearn.cluster import KMeans\n",
    "\n",
    "# Creating the dataset\n",
    "data = {\n",
    "    \"Objects\": [\"OB-1\", \"OB-2\", \"OB-3\", \"OB-4\", \"OB-5\", \"OB-6\", \"OB-7\", \"OB-8\"],\n",
    "    \"X\": [1, 1, 1, 2, 1, 2, 1, 2],\n",
    "    \"Y\": [4, 2, 4, 1, 1, 4, 1, 1],\n",
    "    \"Z\": [1, 2, 1, 2, 1, 2, 2, 1],\n",
    "}\n",
    "\n",
    "# Creating a DataFrame\n",
    "df = pd.DataFrame(data)\n",
    "\n",
    "# Selecting the features for clustering\n",
    "features = df[[\"X\", \"Y\", \"Z\"]]\n",
    "\n",
    "# Applying K-Means Clustering with K=2\n",
    "kmeans = KMeans(n_clusters=2, random_state=42)\n",
    "df['Cluster'] = kmeans.fit_predict(features)\n",
    "\n",
    "# Displaying the results\n",
    "print(df)"
   ]
  },
  {
   "cell_type": "code",
   "execution_count": null,
   "id": "cf945949-dea7-4165-91b2-1a4f8ec90e69",
   "metadata": {},
   "outputs": [],
   "source": []
  }
 ],
 "metadata": {
  "kernelspec": {
   "display_name": "Python 3 (ipykernel)",
   "language": "python",
   "name": "python3"
  },
  "language_info": {
   "codemirror_mode": {
    "name": "ipython",
    "version": 3
   },
   "file_extension": ".py",
   "mimetype": "text/x-python",
   "name": "python",
   "nbconvert_exporter": "python",
   "pygments_lexer": "ipython3",
   "version": "3.8.18"
  }
 },
 "nbformat": 4,
 "nbformat_minor": 5
}
