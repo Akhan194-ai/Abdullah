{
 "cells": [
  {
   "cell_type": "code",
   "execution_count": 3,
   "id": "25c80413-b2d3-45f4-8a01-44faaddbb8a6",
   "metadata": {},
   "outputs": [
    {
     "name": "stdout",
     "output_type": "stream",
     "text": [
      "Dataset:\n",
      "   Student  Math_Score  Science_Score  English_Score  Course_Performance\n",
      "0    Alice          85             92             88                  90\n",
      "1      Bob          90             85             76                  88\n",
      "2  Charlie          78             84             89                  85\n",
      "3    David          88             89             85                  87\n",
      "4      Eve          92             95             91                  93\n",
      "\n",
      "Model Evaluation:\n",
      "Mean Squared Error: 0.9025000000000054\n",
      "R^2 Score: nan\n",
      "\n",
      "Predicted Course Performance for New Student:\n",
      "[87.76]\n"
     ]
    },
    {
     "name": "stderr",
     "output_type": "stream",
     "text": [
      "C:\\Users\\INTEL\\AppData\\Roaming\\Python\\Python312\\site-packages\\sklearn\\metrics\\_regression.py:1266: UndefinedMetricWarning: R^2 score is not well-defined with less than two samples.\n",
      "  warnings.warn(msg, UndefinedMetricWarning)\n"
     ]
    }
   ],
   "source": [
    "# Import necessary libraries\n",
    "import pandas as pd\n",
    "import numpy as np\n",
    "from sklearn.model_selection import train_test_split\n",
    "from sklearn.ensemble import RandomForestRegressor\n",
    "from sklearn.metrics import mean_squared_error, r2_score\n",
    "\n",
    "# Load the dataset (example dataset, replace with actual data)\n",
    "data = {\n",
    "    'Student': ['Alice', 'Bob', 'Charlie', 'David', 'Eve'],\n",
    "    'Math_Score': [85, 90, 78, 88, 92],\n",
    "    'Science_Score': [92, 85, 84, 89, 95],\n",
    "    'English_Score': [88, 76, 89, 85, 91],\n",
    "    'Course_Performance': [90, 88, 85, 87, 93]\n",
    "}\n",
    "\n",
    "df = pd.DataFrame(data)\n",
    "\n",
    "# Display the dataset\n",
    "print(\"Dataset:\")\n",
    "print(df)\n",
    "\n",
    "# Define features (X) and target (y)\n",
    "X = df[['Math_Score', 'Science_Score', 'English_Score']]\n",
    "y = df['Course_Performance']\n",
    "\n",
    "# Split the data into training and testing sets\n",
    "X_train, X_test, y_train, y_test = train_test_split(X, y, test_size=0.2, random_state=42)\n",
    "\n",
    "# Initialize and train the Random Forest Regressor model\n",
    "model = RandomForestRegressor(random_state=42)\n",
    "model.fit(X_train, y_train)\n",
    "\n",
    "# Make predictions on the test set\n",
    "y_pred = model.predict(X_test)\n",
    "\n",
    "# Evaluate the model\n",
    "mse = mean_squared_error(y_test, y_pred)\n",
    "r2 = r2_score(y_test, y_pred)\n",
    "\n",
    "print(\"\\nModel Evaluation:\")\n",
    "print(f\"Mean Squared Error: {mse}\")\n",
    "print(f\"R^2 Score: {r2}\")\n",
    "\n",
    "# Example: Predict performance for a new student\n",
    "new_student = pd.DataFrame({\n",
    "    'Math_Score': [88],\n",
    "    'Science_Score': [90],\n",
    "    'English_Score': [85]\n",
    "})\n",
    "new_prediction = model.predict(new_student)\n",
    "\n",
    "print(\"\\nPredicted Course Performance for New Student:\")\n",
    "print(new_prediction)"
   ]
  },
  {
   "cell_type": "code",
   "execution_count": null,
   "id": "0682e244-5530-419f-9714-abca834972a4",
   "metadata": {},
   "outputs": [],
   "source": []
  }
 ],
 "metadata": {
  "kernelspec": {
   "display_name": "Python 3 (ipykernel)",
   "language": "python",
   "name": "python3"
  },
  "language_info": {
   "codemirror_mode": {
    "name": "ipython",
    "version": 3
   },
   "file_extension": ".py",
   "mimetype": "text/x-python",
   "name": "python",
   "nbconvert_exporter": "python",
   "pygments_lexer": "ipython3",
   "version": "3.12.6"
  }
 },
 "nbformat": 4,
 "nbformat_minor": 5
}
