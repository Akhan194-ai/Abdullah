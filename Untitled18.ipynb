{
 "cells": [
  {
   "cell_type": "code",
   "execution_count": 1,
   "id": "d31d3fca-850a-4613-bb0e-633e108b1887",
   "metadata": {},
   "outputs": [
    {
     "name": "stdout",
     "output_type": "stream",
     "text": [
      "BFS\n",
      "Open List: []\n",
      "Closed List: ['A', 'B', 'C', 'D', 'E', 'F']\n"
     ]
    }
   ],
   "source": [
    "graph = {\n",
    "    'A': ['B', 'C', 'D'],\n",
    "    'B': [],\n",
    "    'C': ['E', 'F'],\n",
    "    'D': ['F'],\n",
    "    'E': [],\n",
    "    'F': []\n",
    "}\n",
    "\n",
    "def bfs(graph, start, goal):\n",
    "    open_list = [start]\n",
    "    closed_list = []\n",
    "\n",
    "    while open_list:\n",
    "        current = open_list.pop(0)  # Dequeue the first element\n",
    "        closed_list.append(current)\n",
    "\n",
    "        if current == goal:\n",
    "            return open_list, closed_list\n",
    "\n",
    "        # Enqueue all neighbors not already visited or in the open list\n",
    "        for neighbor in graph[current]:\n",
    "            if neighbor not in open_list and neighbor not in closed_list:\n",
    "                open_list.append(neighbor)\n",
    "\n",
    "    return open_list, closed_list\n",
    "\n",
    "# Task: Breadth First Search\n",
    "bfs_open, bfs_closed = bfs(graph, 'A', 'F')\n",
    "print(\"BFS\")\n",
    "print(\"Open List:\", bfs_open)\n",
    "print(\"Closed List:\", bfs_closed)"
   ]
  },
  {
   "cell_type": "code",
   "execution_count": 2,
   "id": "7d02ecf1-ad1c-4393-bfaa-022b6c406415",
   "metadata": {},
   "outputs": [
    {
     "name": "stdout",
     "output_type": "stream",
     "text": [
      "\n",
      "DFS\n",
      "Open List: ['D']\n",
      "Closed List: ['A', 'B', 'C', 'E', 'F']\n"
     ]
    }
   ],
   "source": [
    "def dfs(graph, start, goal):\n",
    "    open_list = [start]\n",
    "    closed_list = []\n",
    "\n",
    "    while open_list:\n",
    "        current = open_list.pop()  # Pop the last element (stack behavior)\n",
    "        closed_list.append(current)\n",
    "\n",
    "        if current == goal:\n",
    "            return open_list, closed_list\n",
    "\n",
    "        # Push all neighbors not already visited or in the open list\n",
    "        for neighbor in reversed(graph[current]):\n",
    "            if neighbor not in open_list and neighbor not in closed_list:\n",
    "                open_list.append(neighbor)\n",
    "\n",
    "    return open_list, closed_list\n",
    "\n",
    "# Task: Depth First Search\n",
    "dfs_open, dfs_closed = dfs(graph, 'A', 'F')\n",
    "print(\"\\nDFS\")\n",
    "print(\"Open List:\", dfs_open)\n",
    "print(\"Closed List:\", dfs_closed)"
   ]
  },
  {
   "cell_type": "code",
   "execution_count": 3,
   "id": "4f1cf976-5402-424c-8d67-b41afd6e6618",
   "metadata": {},
   "outputs": [
    {
     "name": "stdout",
     "output_type": "stream",
     "text": [
      "Name: Abdullah, ID: 101, Salary: 50000\n",
      "Name: Babar, ID: 102, Salary: 60000\n",
      "Total Employees: 2\n"
     ]
    }
   ],
   "source": [
    "class Employee:\n",
    "    # Class variable to keep track of the total number of employees\n",
    "    employee_count = 0\n",
    "\n",
    "    def __init__(self, empName, empID, salary):\n",
    "        # Initialize instance variables\n",
    "        self.empName = empName\n",
    "        self.empID = empID\n",
    "        self.salary = salary\n",
    "\n",
    "        # Increment the employee count whenever a new employee is created\n",
    "        Employee.employee_count += 1\n",
    "\n",
    "    @classmethod\n",
    "    def displayCount(cls):\n",
    "        # Display the total number of employees\n",
    "        print(f\"Total Employees: {cls.employee_count}\")\n",
    "\n",
    "    def displayEmployee(self):\n",
    "        # Display the employee's details\n",
    "        print(f\"Name: {self.empName}, ID: {self.empID}, Salary: {self.salary}\")\n",
    "\n",
    "# Example usage\n",
    "# Create some employee objects\n",
    "emp1 = Employee(\"Abdullah\", 101, 50000)\n",
    "emp2 = Employee(\"Babar\", 102, 60000)\n",
    "\n",
    "# Display each employee's details\n",
    "emp1.displayEmployee()\n",
    "emp2.displayEmployee()\n",
    "\n",
    "# Display the total number of employees\n",
    "Employee.displayCount()"
   ]
  },
  {
   "cell_type": "code",
   "execution_count": 4,
   "id": "27c78e84-53b1-4db6-b60b-c8de3472c3fe",
   "metadata": {},
   "outputs": [
    {
     "name": "stdout",
     "output_type": "stream",
     "text": [
      "Student Abdullah added successfully.\n",
      "Student Ali added successfully.\n",
      "Student Ahmed added successfully.\n",
      "\n",
      "Student Database:\n",
      "ID: 101, Name: Abdullah, Grade: 85\n",
      "ID: 102, Name: Ali, Grade: 90\n",
      "ID: 103, Name: Ahmed, Grade: 78\n",
      "\n",
      "Average Grade: 84.33333333333333\n"
     ]
    }
   ],
   "source": [
    "# Create an empty dictionary to store student information\n",
    "student_db = {}\n",
    "\n",
    "def add_student(student_id, name, grade):\n",
    "    \"\"\"Add a student to the database.\"\"\"\n",
    "    if student_id in student_db:\n",
    "        print(f\"Student ID {student_id} already exists. Update the record if needed.\")\n",
    "    else:\n",
    "        student_db[student_id] = {'name': name, 'grade': grade}\n",
    "        print(f\"Student {name} added successfully.\")\n",
    "\n",
    "def display_students():\n",
    "    \"\"\"Display all students in the database.\"\"\"\n",
    "    if not student_db:\n",
    "        print(\"No students in the database.\")\n",
    "    else:\n",
    "        print(\"\\nStudent Database:\")\n",
    "        for student_id, info in student_db.items():\n",
    "            print(f\"ID: {student_id}, Name: {info['name']}, Grade: {info['grade']}\")\n",
    "\n",
    "def get_average_grade():\n",
    "    \"\"\"Calculate and return the average grade of all students.\"\"\"\n",
    "    if not student_db:\n",
    "        print(\"No students in the database to calculate average grade.\")\n",
    "        return 0\n",
    "    total_grade = sum(info['grade'] for info in student_db.values())\n",
    "    average_grade = total_grade / len(student_db)\n",
    "    return average_grade\n",
    "\n",
    "# Example usage\n",
    "# Add students to the database\n",
    "add_student(101, \"Abdullah\", 85)\n",
    "add_student(102, \"Ali\", 90)\n",
    "add_student(103, \"Ahmed\", 78)\n",
    "\n",
    "# Display all students\n",
    "display_students()\n",
    "\n",
    "# Get and display the average grade\n",
    "average = get_average_grade()\n",
    "print(f\"\\nAverage Grade: {average}\")"
   ]
  },
  {
   "cell_type": "code",
   "execution_count": null,
   "id": "88aa6658-bb67-4e4e-9bbd-135b1a33fb1e",
   "metadata": {},
   "outputs": [],
   "source": []
  }
 ],
 "metadata": {
  "kernelspec": {
   "display_name": "Python 3 (ipykernel)",
   "language": "python",
   "name": "python3"
  },
  "language_info": {
   "codemirror_mode": {
    "name": "ipython",
    "version": 3
   },
   "file_extension": ".py",
   "mimetype": "text/x-python",
   "name": "python",
   "nbconvert_exporter": "python",
   "pygments_lexer": "ipython3",
   "version": "3.12.6"
  }
 },
 "nbformat": 4,
 "nbformat_minor": 5
}
