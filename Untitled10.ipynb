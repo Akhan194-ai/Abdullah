{
 "cells": [
  {
   "cell_type": "code",
   "execution_count": 1,
   "id": "849bd3f9-770f-4fe8-a26a-e8923cf9dcc8",
   "metadata": {},
   "outputs": [
    {
     "name": "stdout",
     "output_type": "stream",
     "text": [
      "Defaulting to user installation because normal site-packages is not writeableNote: you may need to restart the kernel to use updated packages.\n"
     ]
    },
    {
     "name": "stderr",
     "output_type": "stream",
     "text": [
      "  WARNING: The scripts f2py.exe and numpy-config.exe are installed in 'C:\\Users\\INTEL\\AppData\\Roaming\\Python\\Python312\\Scripts' which is not on PATH.\n",
      "  Consider adding this directory to PATH or, if you prefer to suppress this warning, use --no-warn-script-location.\n"
     ]
    },
    {
     "name": "stdout",
     "output_type": "stream",
     "text": [
      "\n",
      "Collecting pandas\n",
      "  Downloading pandas-2.2.3-cp312-cp312-win_amd64.whl.metadata (19 kB)\n",
      "Collecting numpy>=1.26.0 (from pandas)\n",
      "  Downloading numpy-2.2.0-cp312-cp312-win_amd64.whl.metadata (60 kB)\n",
      "Requirement already satisfied: python-dateutil>=2.8.2 in c:\\users\\intel\\appdata\\roaming\\python\\python312\\site-packages (from pandas) (2.9.0.post0)\n",
      "Collecting pytz>=2020.1 (from pandas)\n",
      "  Using cached pytz-2024.2-py2.py3-none-any.whl.metadata (22 kB)\n",
      "Collecting tzdata>=2022.7 (from pandas)\n",
      "  Using cached tzdata-2024.2-py2.py3-none-any.whl.metadata (1.4 kB)\n",
      "Requirement already satisfied: six>=1.5 in c:\\users\\intel\\appdata\\roaming\\python\\python312\\site-packages (from python-dateutil>=2.8.2->pandas) (1.17.0)\n",
      "Downloading pandas-2.2.3-cp312-cp312-win_amd64.whl (11.5 MB)\n",
      "   ---------------------------------------- 0.0/11.5 MB ? eta -:--:--\n",
      "    --------------------------------------- 0.3/11.5 MB ? eta -:--:--\n",
      "   --- ------------------------------------ 1.0/11.5 MB 3.6 MB/s eta 0:00:03\n",
      "   ------- -------------------------------- 2.1/11.5 MB 5.6 MB/s eta 0:00:02\n",
      "   ----------- ---------------------------- 3.4/11.5 MB 5.6 MB/s eta 0:00:02\n",
      "   ----------- ---------------------------- 3.4/11.5 MB 5.6 MB/s eta 0:00:02\n",
      "   ----------------- ---------------------- 5.0/11.5 MB 4.6 MB/s eta 0:00:02\n",
      "   ------------------ --------------------- 5.2/11.5 MB 4.3 MB/s eta 0:00:02\n",
      "   -------------------- ------------------- 6.0/11.5 MB 4.0 MB/s eta 0:00:02\n",
      "   ----------------------- ---------------- 6.8/11.5 MB 4.0 MB/s eta 0:00:02\n",
      "   -------------------------- ------------- 7.6/11.5 MB 3.9 MB/s eta 0:00:02\n",
      "   ---------------------------- ----------- 8.1/11.5 MB 3.6 MB/s eta 0:00:01\n",
      "   ----------------------------- ---------- 8.4/11.5 MB 3.6 MB/s eta 0:00:01\n",
      "   ------------------------------ --------- 8.9/11.5 MB 3.5 MB/s eta 0:00:01\n",
      "   ------------------------------- -------- 9.2/11.5 MB 3.3 MB/s eta 0:00:01\n",
      "   -------------------------------- ------- 9.4/11.5 MB 3.2 MB/s eta 0:00:01\n",
      "   --------------------------------- ------ 9.7/11.5 MB 3.0 MB/s eta 0:00:01\n",
      "   ---------------------------------- ----- 10.0/11.5 MB 2.9 MB/s eta 0:00:01\n",
      "   ------------------------------------ --- 10.5/11.5 MB 2.8 MB/s eta 0:00:01\n",
      "   ------------------------------------- -- 10.7/11.5 MB 2.7 MB/s eta 0:00:01\n",
      "   -------------------------------------- - 11.0/11.5 MB 2.7 MB/s eta 0:00:01\n",
      "   ---------------------------------------  11.3/11.5 MB 2.6 MB/s eta 0:00:01\n",
      "   ---------------------------------------- 11.5/11.5 MB 2.5 MB/s eta 0:00:00\n",
      "Downloading numpy-2.2.0-cp312-cp312-win_amd64.whl (12.6 MB)\n",
      "   ---------------------------------------- 0.0/12.6 MB ? eta -:--:--\n",
      "    --------------------------------------- 0.3/12.6 MB ? eta -:--:--\n",
      "   - -------------------------------------- 0.5/12.6 MB 1.4 MB/s eta 0:00:09\n",
      "   -- ------------------------------------- 0.8/12.6 MB 1.5 MB/s eta 0:00:09\n",
      "   ---- ----------------------------------- 1.3/12.6 MB 1.5 MB/s eta 0:00:08\n",
      "   ---- ----------------------------------- 1.6/12.6 MB 1.5 MB/s eta 0:00:08\n",
      "   ----- ---------------------------------- 1.8/12.6 MB 1.5 MB/s eta 0:00:08\n",
      "   ------ --------------------------------- 2.1/12.6 MB 1.5 MB/s eta 0:00:07\n",
      "   -------- ------------------------------- 2.6/12.6 MB 1.5 MB/s eta 0:00:07\n",
      "   --------- ------------------------------ 2.9/12.6 MB 1.5 MB/s eta 0:00:07\n",
      "   --------- ------------------------------ 3.1/12.6 MB 1.5 MB/s eta 0:00:07\n",
      "   ---------- ----------------------------- 3.4/12.6 MB 1.5 MB/s eta 0:00:07\n",
      "   ------------ --------------------------- 3.9/12.6 MB 1.5 MB/s eta 0:00:06\n",
      "   ------------- -------------------------- 4.2/12.6 MB 1.5 MB/s eta 0:00:06\n",
      "   -------------- ------------------------- 4.5/12.6 MB 1.5 MB/s eta 0:00:06\n",
      "   -------------- ------------------------- 4.7/12.6 MB 1.5 MB/s eta 0:00:06\n",
      "   ---------------- ----------------------- 5.2/12.6 MB 1.5 MB/s eta 0:00:05\n",
      "   ----------------- ---------------------- 5.5/12.6 MB 1.5 MB/s eta 0:00:05\n",
      "   ------------------ --------------------- 5.8/12.6 MB 1.5 MB/s eta 0:00:05\n",
      "   ------------------- -------------------- 6.0/12.6 MB 1.5 MB/s eta 0:00:05\n",
      "   ------------------- -------------------- 6.3/12.6 MB 1.5 MB/s eta 0:00:05\n",
      "   --------------------- ------------------ 6.8/12.6 MB 1.5 MB/s eta 0:00:04\n",
      "   ---------------------- ----------------- 7.1/12.6 MB 1.5 MB/s eta 0:00:04\n",
      "   ----------------------- ---------------- 7.3/12.6 MB 1.5 MB/s eta 0:00:04\n",
      "   ------------------------ --------------- 7.9/12.6 MB 1.5 MB/s eta 0:00:04\n",
      "   ------------------------- -------------- 8.1/12.6 MB 1.5 MB/s eta 0:00:03\n",
      "   --------------------------- ------------ 8.7/12.6 MB 1.6 MB/s eta 0:00:03\n",
      "   ---------------------------- ----------- 8.9/12.6 MB 1.6 MB/s eta 0:00:03\n",
      "   ----------------------------- ---------- 9.4/12.6 MB 1.6 MB/s eta 0:00:03\n",
      "   ------------------------------ --------- 9.7/12.6 MB 1.6 MB/s eta 0:00:02\n",
      "   -------------------------------- ------- 10.2/12.6 MB 1.6 MB/s eta 0:00:02\n",
      "   ---------------------------------- ----- 10.7/12.6 MB 1.6 MB/s eta 0:00:02\n",
      "   ---------------------------------- ----- 11.0/12.6 MB 1.6 MB/s eta 0:00:01\n",
      "   ------------------------------------ --- 11.5/12.6 MB 1.6 MB/s eta 0:00:01\n",
      "   -------------------------------------- - 12.1/12.6 MB 1.7 MB/s eta 0:00:01\n",
      "   ---------------------------------------- 12.6/12.6 MB 1.7 MB/s eta 0:00:00\n",
      "Using cached pytz-2024.2-py2.py3-none-any.whl (508 kB)\n",
      "Using cached tzdata-2024.2-py2.py3-none-any.whl (346 kB)\n",
      "Installing collected packages: pytz, tzdata, numpy, pandas\n",
      "Successfully installed numpy-2.2.0 pandas-2.2.3 pytz-2024.2 tzdata-2024.2\n"
     ]
    }
   ],
   "source": [
    "pip install pandas\n"
   ]
  },
  {
   "cell_type": "code",
   "execution_count": 2,
   "id": "83e821d4-ad59-4145-8cc1-ff06538ae91d",
   "metadata": {},
   "outputs": [
    {
     "name": "stdout",
     "output_type": "stream",
     "text": [
      "Original DataFrame:\n",
      "   Student  Math  Science  English\n",
      "0    Alice  85.0     92.0     88.0\n",
      "1      Bob  90.0      NaN     76.0\n",
      "2  Charlie   NaN     84.0     89.0\n",
      "3    David  78.0      NaN      NaN\n",
      "4      Eve  88.0     91.0      NaN\n",
      "\n",
      "DataFrame after Forward Fill:\n",
      "   Student  Math  Science  English\n",
      "0    Alice  85.0     92.0     88.0\n",
      "1      Bob  90.0     92.0     76.0\n",
      "2  Charlie  90.0     84.0     89.0\n",
      "3    David  78.0     84.0     89.0\n",
      "4      Eve  88.0     91.0     89.0\n"
     ]
    },
    {
     "name": "stderr",
     "output_type": "stream",
     "text": [
      "C:\\Users\\INTEL\\AppData\\Local\\Temp\\ipykernel_9676\\2529106087.py:19: FutureWarning: DataFrame.fillna with 'method' is deprecated and will raise in a future version. Use obj.ffill() or obj.bfill() instead.\n",
      "  df_filled = df.fillna(method='ffill')\n"
     ]
    }
   ],
   "source": [
    "import pandas as pd\n",
    "\n",
    "# Dictionary containing students' scores (with some missing values)\n",
    "data = {\n",
    "    'Student': ['Alice', 'Bob', 'Charlie', 'David', 'Eve'],\n",
    "    'Math': [85, 90, None, 78, 88],\n",
    "    'Science': [92, None, 84, None, 91],\n",
    "    'English': [88, 76, 89, None, None]\n",
    "}\n",
    "\n",
    "# Create a DataFrame from the dictionary\n",
    "df = pd.DataFrame(data)\n",
    "\n",
    "# Display the original DataFrame\n",
    "print(\"Original DataFrame:\")\n",
    "print(df)\n",
    "\n",
    "# Apply forward fill to interpolate missing values\n",
    "df_filled = df.fillna(method='ffill')\n",
    "\n",
    "# Display the DataFrame after forward fill\n",
    "print(\"\\nDataFrame after Forward Fill:\")\n",
    "print(df_filled)"
   ]
  },
  {
   "cell_type": "code",
   "execution_count": null,
   "id": "917af987-5e17-4ee9-b478-cbd4fae98625",
   "metadata": {},
   "outputs": [],
   "source": []
  }
 ],
 "metadata": {
  "kernelspec": {
   "display_name": "Python 3 (ipykernel)",
   "language": "python",
   "name": "python3"
  },
  "language_info": {
   "codemirror_mode": {
    "name": "ipython",
    "version": 3
   },
   "file_extension": ".py",
   "mimetype": "text/x-python",
   "name": "python",
   "nbconvert_exporter": "python",
   "pygments_lexer": "ipython3",
   "version": "3.12.6"
  }
 },
 "nbformat": 4,
 "nbformat_minor": 5
}
