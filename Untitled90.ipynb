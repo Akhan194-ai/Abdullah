{
 "cells": [
  {
   "cell_type": "code",
   "execution_count": 1,
   "id": "b4faecd9-b4df-4ea9-a9fc-5f82cc606126",
   "metadata": {},
   "outputs": [
    {
     "name": "stdout",
     "output_type": "stream",
     "text": [
      "Dataset with Cluster Assignments:\n",
      "     ItemName  ItemPrice  Cluster\n",
      "0      Apples         20        0\n",
      "1     Bananas         10        0\n",
      "2  Chocolates         50        0\n",
      "3        Milk         30        0\n",
      "4       Bread         25        0\n",
      "5        Eggs         15        0\n",
      "6     Chicken        200        1\n",
      "7        Rice        150        1\n",
      "8       Juice         80        2\n",
      "9      Coffee        100        2\n",
      "\n",
      "New Centroid Values:\n",
      "         ItemPrice\n",
      "Cluster           \n",
      "0             25.0\n",
      "1            175.0\n",
      "2             90.0\n"
     ]
    },
    {
     "name": "stderr",
     "output_type": "stream",
     "text": [
      "C:\\Users\\sed\\.conda\\envs\\tf\\lib\\site-packages\\sklearn\\cluster\\_kmeans.py:1416: FutureWarning: The default value of `n_init` will change from 10 to 'auto' in 1.4. Set the value of `n_init` explicitly to suppress the warning\n",
      "  super()._check_params_vs_input(X, default_n_init=10)\n",
      "C:\\Users\\sed\\.conda\\envs\\tf\\lib\\site-packages\\sklearn\\cluster\\_kmeans.py:1440: UserWarning: KMeans is known to have a memory leak on Windows with MKL, when there are less chunks than available threads. You can avoid it by setting the environment variable OMP_NUM_THREADS=1.\n",
      "  warnings.warn(\n"
     ]
    }
   ],
   "source": [
    "import pandas as pd\n",
    "from sklearn.cluster import KMeans\n",
    "\n",
    "# Create a dataset with item names and prices\n",
    "data = {\n",
    "    'ItemName': ['Apples', 'Bananas', 'Chocolates', 'Milk', 'Bread', 'Eggs', \n",
    "                 'Chicken', 'Rice', 'Juice', 'Coffee'],\n",
    "    'ItemPrice': [20, 10, 50, 30, 25, 15, 200, 150, 80, 100]\n",
    "}\n",
    "\n",
    "# Save dataset to CSV\n",
    "df = pd.DataFrame(data)\n",
    "df.to_csv('shopping.csv', index=False)\n",
    "\n",
    "# Load the dataset\n",
    "df = pd.read_csv('shopping.csv')\n",
    "\n",
    "# Extract relevant feature (ItemPrice)\n",
    "X = df[['ItemPrice']]\n",
    "\n",
    "# Apply K-Means Clustering\n",
    "kmeans = KMeans(n_clusters=3, random_state=42)\n",
    "kmeans.fit(X)\n",
    "\n",
    "# Add cluster labels to the dataset\n",
    "df['Cluster'] = kmeans.labels_\n",
    "\n",
    "# Calculate new centroids based on the mean of each cluster\n",
    "new_centroids = df.groupby('Cluster')[['ItemPrice']].mean()\n",
    "\n",
    "print(\"Dataset with Cluster Assignments:\")\n",
    "print(df)\n",
    "\n",
    "print(\"\\nNew Centroid Values:\")\n",
    "print(new_centroids)\n"
   ]
  },
  {
   "cell_type": "code",
   "execution_count": null,
   "id": "844f34cb-ed1a-4f9f-870c-1b6045503b30",
   "metadata": {},
   "outputs": [],
   "source": []
  }
 ],
 "metadata": {
  "kernelspec": {
   "display_name": "Python 3 (ipykernel)",
   "language": "python",
   "name": "python3"
  },
  "language_info": {
   "codemirror_mode": {
    "name": "ipython",
    "version": 3
   },
   "file_extension": ".py",
   "mimetype": "text/x-python",
   "name": "python",
   "nbconvert_exporter": "python",
   "pygments_lexer": "ipython3",
   "version": "3.8.18"
  }
 },
 "nbformat": 4,
 "nbformat_minor": 5
}
