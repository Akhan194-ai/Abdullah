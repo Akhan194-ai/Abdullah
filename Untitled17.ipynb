{
 "cells": [
  {
   "cell_type": "code",
   "execution_count": 1,
   "id": "6a046790-995e-43cc-b013-f13844244f6a",
   "metadata": {},
   "outputs": [
    {
     "name": "stdout",
     "output_type": "stream",
     "text": [
      "Recommended movies for User3: ['Movie1', 'Movie2', 'Movie5']\n"
     ]
    },
    {
     "name": "stderr",
     "output_type": "stream",
     "text": [
      "C:\\Users\\INTEL\\AppData\\Local\\Temp\\ipykernel_12536\\4123988824.py:36: RuntimeWarning: invalid value encountered in scalar divide\n",
      "  predicted_rating = np.dot(relevant_similarities, relevant_ratings) / relevant_similarities.sum()\n"
     ]
    }
   ],
   "source": [
    "import numpy as np\n",
    "import pandas as pd\n",
    "from sklearn.metrics.pairwise import cosine_similarity\n",
    "from sklearn.neighbors import NearestNeighbors\n",
    "\n",
    "# Step 1: Create a synthetic dataset\n",
    "# Rows represent users, columns represent movies, and values represent ratings (1-5, or 0 if not rated)\n",
    "data = {\n",
    "    'User': ['User1', 'User2', 'User3', 'User4', 'User5'],\n",
    "    'Movie1': [5, 4, 0, 0, 3],\n",
    "    'Movie2': [4, 0, 0, 2, 0],\n",
    "    'Movie3': [0, 0, 4, 5, 0],\n",
    "    'Movie4': [0, 3, 5, 4, 0],\n",
    "    'Movie5': [2, 0, 0, 0, 5],\n",
    "}\n",
    "ratings = pd.DataFrame(data)\n",
    "ratings.set_index('User', inplace=True)\n",
    "\n",
    "# Step 2: Compute cosine similarity between movies\n",
    "movie_ratings = ratings.T  # Transpose to make movies the rows\n",
    "similarity_matrix = cosine_similarity(movie_ratings)\n",
    "similarity_df = pd.DataFrame(similarity_matrix, index=movie_ratings.index, columns=movie_ratings.index)\n",
    "\n",
    "# Step 3: Define the recommender function\n",
    "def recommend_movies(user, ratings_df, similarity_df, top_n=3):\n",
    "    user_ratings = ratings_df.loc[user]\n",
    "    rated_movies = user_ratings[user_ratings > 0].index  # Movies rated by the user\n",
    "    \n",
    "    # Predict ratings for all unrated movies\n",
    "    movie_scores = {}\n",
    "    for movie in ratings_df.columns:\n",
    "        if movie not in rated_movies:\n",
    "            # Weighted sum of similarities for prediction\n",
    "            relevant_similarities = similarity_df[movie][rated_movies]\n",
    "            relevant_ratings = user_ratings[rated_movies]\n",
    "            predicted_rating = np.dot(relevant_similarities, relevant_ratings) / relevant_similarities.sum()\n",
    "            movie_scores[movie] = predicted_rating\n",
    "\n",
    "    # Sort by predicted rating and return top_n movies\n",
    "    recommended_movies = sorted(movie_scores.items(), key=lambda x: x[1], reverse=True)[:top_n]\n",
    "    return [movie for movie, score in recommended_movies]\n",
    "\n",
    "# Step 4: Test the recommender system\n",
    "user_to_recommend = 'User3'\n",
    "recommendations = recommend_movies(user_to_recommend, ratings, similarity_df)\n",
    "\n",
    "print(f\"Recommended movies for {user_to_recommend}: {recommendations}\")\n"
   ]
  },
  {
   "cell_type": "code",
   "execution_count": null,
   "id": "667f880e-fb16-48b7-be95-db2a96642c94",
   "metadata": {},
   "outputs": [],
   "source": []
  }
 ],
 "metadata": {
  "kernelspec": {
   "display_name": "Python 3 (ipykernel)",
   "language": "python",
   "name": "python3"
  },
  "language_info": {
   "codemirror_mode": {
    "name": "ipython",
    "version": 3
   },
   "file_extension": ".py",
   "mimetype": "text/x-python",
   "name": "python",
   "nbconvert_exporter": "python",
   "pygments_lexer": "ipython3",
   "version": "3.12.6"
  }
 },
 "nbformat": 4,
 "nbformat_minor": 5
}
