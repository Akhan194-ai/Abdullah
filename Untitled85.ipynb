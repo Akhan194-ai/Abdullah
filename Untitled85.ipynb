{
 "cells": [
  {
   "cell_type": "code",
   "execution_count": 1,
   "id": "7220b59b-8305-4a19-a9c2-323a70c8d8aa",
   "metadata": {},
   "outputs": [
    {
     "name": "stderr",
     "output_type": "stream",
     "text": [
      "C:\\Users\\sed\\.conda\\envs\\tf\\lib\\site-packages\\sklearn\\cluster\\_kmeans.py:1416: FutureWarning: The default value of `n_init` will change from 10 to 'auto' in 1.4. Set the value of `n_init` explicitly to suppress the warning\n",
      "  super()._check_params_vs_input(X, default_n_init=10)\n",
      "C:\\Users\\sed\\.conda\\envs\\tf\\lib\\site-packages\\sklearn\\cluster\\_kmeans.py:1440: UserWarning: KMeans is known to have a memory leak on Windows with MKL, when there are less chunks than available threads. You can avoid it by setting the environment variable OMP_NUM_THREADS=1.\n",
      "  warnings.warn(\n"
     ]
    },
    {
     "name": "stdout",
     "output_type": "stream",
     "text": [
      "Centroids in scaled space:\n",
      " [[ 0.175444    0.30996521  0.90404555]\n",
      " [ 1.40355197  1.21772047 -0.90404555]\n",
      " [-1.22810798 -1.32842233 -0.90404555]]\n",
      "\n",
      "New centroids based on mean values in original space:\n",
      "           Age   Income  Spending Score\n",
      "Cluster                               \n",
      "0        45.0  67000.0            84.0\n",
      "1        62.5  87500.0            55.0\n",
      "2        25.0  30000.0            55.0\n"
     ]
    }
   ],
   "source": [
    "import pandas as pd\n",
    "from sklearn.cluster import KMeans\n",
    "from sklearn.preprocessing import StandardScaler\n",
    "import numpy as np\n",
    "\n",
    "# Load the dataset\n",
    "data = pd.read_csv('income2.csv')  # Replace with your dataset path if necessary\n",
    "\n",
    "# Select numerical columns for clustering\n",
    "X = data[['Age', 'Income', 'Spending Score']]\n",
    "\n",
    "# Step 1: Standardize the data (this is important for K-Means)\n",
    "scaler = StandardScaler()\n",
    "X_scaled = scaler.fit_transform(X)\n",
    "\n",
    "# Step 2: Apply K-Means clustering (K=3 clusters)\n",
    "kmeans = KMeans(n_clusters=3, random_state=42)\n",
    "kmeans.fit(X_scaled)\n",
    "\n",
    "# Step 3: Access the centroids in scaled space\n",
    "centroids_scaled = kmeans.cluster_centers_\n",
    "print(\"Centroids in scaled space:\\n\", centroids_scaled)\n",
    "\n",
    "# Step 4: Assign the cluster labels to the data\n",
    "data['Cluster'] = kmeans.labels_\n",
    "\n",
    "# Step 5: Calculate new centroids based on the mean values of the data points in each cluster\n",
    "new_centroids = data.groupby('Cluster').mean()\n",
    "\n",
    "print(\"\\nNew centroids based on mean values in original space:\\n\", new_centroids)"
   ]
  },
  {
   "cell_type": "code",
   "execution_count": null,
   "id": "c8c60062-06cf-4036-9b04-27d971c263c5",
   "metadata": {},
   "outputs": [],
   "source": []
  }
 ],
 "metadata": {
  "kernelspec": {
   "display_name": "Python 3 (ipykernel)",
   "language": "python",
   "name": "python3"
  },
  "language_info": {
   "codemirror_mode": {
    "name": "ipython",
    "version": 3
   },
   "file_extension": ".py",
   "mimetype": "text/x-python",
   "name": "python",
   "nbconvert_exporter": "python",
   "pygments_lexer": "ipython3",
   "version": "3.8.18"
  }
 },
 "nbformat": 4,
 "nbformat_minor": 5
}
