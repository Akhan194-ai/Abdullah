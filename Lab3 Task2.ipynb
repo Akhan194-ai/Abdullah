{
 "cells": [
  {
   "cell_type": "code",
   "execution_count": 1,
   "id": "b2372b48-9256-4cd8-bf50-9f8623ca6795",
   "metadata": {},
   "outputs": [
    {
     "name": "stdout",
     "output_type": "stream",
     "text": [
      "Prediction: ['Good']\n",
      "Confusion Matrix:\n",
      "[[0 1]\n",
      " [0 0]]\n",
      "Accuracy: 0.0\n",
      "Prediction for new tissue paper (X1=3, X2=7): Good\n"
     ]
    }
   ],
   "source": [
    "from sklearn.neighbors import KNeighborsClassifier\n",
    "from sklearn.metrics import confusion_matrix, accuracy_score\n",
    "from sklearn.model_selection import train_test_split\n",
    "from sklearn.preprocessing import LabelEncoder\n",
    "\n",
    "# Training data\n",
    "acid_durability = [7, 7, 3, 1]\n",
    "strength = [7, 4, 4, 4]\n",
    "classification = ['Bad', 'Bad', 'Good', 'Good']\n",
    "\n",
    "# Encode the class labels\n",
    "le_class = LabelEncoder()\n",
    "class_encoded = le_class.fit_transform(classification)\n",
    "\n",
    "# Features and labels\n",
    "features = list(zip(acid_durability, strength))\n",
    "\n",
    "# Splitting the dataset (for example, 75% training and 25% testing here, though all samples are typically used in KNN)\n",
    "features_train, features_test, label_train, label_test = train_test_split(features, class_encoded, test_size=0.24, random_state=42)\n",
    "\n",
    "# KNN model\n",
    "model = KNeighborsClassifier(n_neighbors=3, metric='euclidean')\n",
    "model.fit(features_train, label_train)\n",
    "\n",
    "# Predict on test set\n",
    "predicted = model.predict(features_test)\n",
    "\n",
    "# Decode predictions to original labels\n",
    "predicted_labels = le_class.inverse_transform(predicted)\n",
    "\n",
    "print(\"Prediction:\", predicted_labels)\n",
    "conf_mat = confusion_matrix(label_test, predicted)\n",
    "print(\"Confusion Matrix:\")\n",
    "print(conf_mat)\n",
    "\n",
    "accuracy = accuracy_score(label_test, predicted)\n",
    "print(\"Accuracy:\", accuracy)\n",
    "\n",
    "# Predict classification for the new tissue paper sample (X1=3, X2=7)\n",
    "new_sample = [[3, 7]]\n",
    "predicted_new_sample = model.predict(new_sample)\n",
    "predicted_new_sample_label = le_class.inverse_transform(predicted_new_sample)\n",
    "\n",
    "print(\"Prediction for new tissue paper (X1=3, X2=7):\", predicted_new_sample_label[0])\n"
   ]
  },
  {
   "cell_type": "code",
   "execution_count": null,
   "id": "b599702c-812f-46fc-9829-e233bfa68625",
   "metadata": {},
   "outputs": [],
   "source": []
  }
 ],
 "metadata": {
  "kernelspec": {
   "display_name": "Python 3 (ipykernel)",
   "language": "python",
   "name": "python3"
  },
  "language_info": {
   "codemirror_mode": {
    "name": "ipython",
    "version": 3
   },
   "file_extension": ".py",
   "mimetype": "text/x-python",
   "name": "python",
   "nbconvert_exporter": "python",
   "pygments_lexer": "ipython3",
   "version": "3.13.0"
  }
 },
 "nbformat": 4,
 "nbformat_minor": 5
}
